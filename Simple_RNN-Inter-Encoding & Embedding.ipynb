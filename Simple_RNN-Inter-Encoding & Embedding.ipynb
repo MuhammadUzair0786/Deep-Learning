{
 "cells": [
  {
   "cell_type": "markdown",
   "id": "fcfee0c3",
   "metadata": {},
   "source": [
    "# Integer Encoding SimpleRNN Practice"
   ]
  },
  {
   "cell_type": "code",
   "execution_count": 2,
   "id": "64b1f2e6",
   "metadata": {},
   "outputs": [],
   "source": [
    "from keras.datasets import imdb\n",
    "from keras.models import Sequential\n",
    "from keras.layers import Dense, SimpleRNN, Embedding,Flatten"
   ]
  },
  {
   "cell_type": "code",
   "execution_count": 2,
   "id": "b50a2fff",
   "metadata": {},
   "outputs": [
    {
     "name": "stdout",
     "output_type": "stream",
     "text": [
      "Downloading data from https://storage.googleapis.com/tensorflow/tf-keras-datasets/imdb.npz\n",
      "17464789/17464789 [==============================] - 76s 4us/step\n"
     ]
    }
   ],
   "source": [
    "(x_train,y_train),(x_test,y_test) =imdb.load_data()"
   ]
  },
  {
   "cell_type": "code",
   "execution_count": 3,
   "id": "4fd1a204",
   "metadata": {},
   "outputs": [
    {
     "data": {
      "text/plain": [
       "((25000,), (25000,), (25000,), (25000,))"
      ]
     },
     "execution_count": 3,
     "metadata": {},
     "output_type": "execute_result"
    }
   ],
   "source": [
    "x_train.shape, y_train.shape, x_test.shape, y_test.shape"
   ]
  },
  {
   "cell_type": "code",
   "execution_count": 11,
   "id": "270b0dc8",
   "metadata": {},
   "outputs": [
    {
     "data": {
      "text/plain": [
       "2494"
      ]
     },
     "execution_count": 11,
     "metadata": {},
     "output_type": "execute_result"
    }
   ],
   "source": [
    "len(x_train[5])"
   ]
  },
  {
   "cell_type": "code",
   "execution_count": 13,
   "id": "1071f14d",
   "metadata": {},
   "outputs": [
    {
     "data": {
      "text/plain": [
       "2315"
      ]
     },
     "execution_count": 13,
     "metadata": {},
     "output_type": "execute_result"
    }
   ],
   "source": [
    "len(x_test[5])"
   ]
  },
  {
   "cell_type": "code",
   "execution_count": 12,
   "id": "8c89e388",
   "metadata": {},
   "outputs": [
    {
     "data": {
      "text/plain": [
       "array([   1,  194, 1153, ...,    0,    0,    0])"
      ]
     },
     "execution_count": 12,
     "metadata": {},
     "output_type": "execute_result"
    }
   ],
   "source": [
    "x_train[1]"
   ]
  },
  {
   "cell_type": "code",
   "execution_count": 7,
   "id": "f6441f17",
   "metadata": {},
   "outputs": [],
   "source": [
    "from tensorflow.keras.preprocessing.sequence import pad_sequences\n",
    "x_train = pad_sequences(x_train, padding='post',maxlen=500)\n",
    "x_test = pad_sequences(x_test, padding='post',maxlen=500)"
   ]
  },
  {
   "cell_type": "code",
   "execution_count": null,
   "id": "e1820fb3",
   "metadata": {},
   "outputs": [],
   "source": [
    "model =Sequential()\n",
    "model.add(SimpleRNN(32, input_shape=(x_train.shape[1], 1), return_sequences=True))\n",
    "model.add(SimpleRNN(32, return_sequences=False))\n",
    "model.add(Dense(1, activation='sigmoid'))\n"
   ]
  },
  {
   "cell_type": "code",
   "execution_count": 16,
   "id": "6209c7f8",
   "metadata": {},
   "outputs": [
    {
     "name": "stdout",
     "output_type": "stream",
     "text": [
      "Model: \"sequential_1\"\n",
      "_________________________________________________________________\n",
      " Layer (type)                Output Shape              Param #   \n",
      "=================================================================\n",
      " simple_rnn_2 (SimpleRNN)    (None, 500, 32)           1088      \n",
      "                                                                 \n",
      " simple_rnn_3 (SimpleRNN)    (None, 32)                2080      \n",
      "                                                                 \n",
      " dense_1 (Dense)             (None, 1)                 33        \n",
      "                                                                 \n",
      "=================================================================\n",
      "Total params: 3,201\n",
      "Trainable params: 3,201\n",
      "Non-trainable params: 0\n",
      "_________________________________________________________________\n"
     ]
    }
   ],
   "source": [
    "model.compile(loss='binary_crossentropy', optimizer='adam', metrics=['accuracy'])\n",
    "model.summary()"
   ]
  },
  {
   "cell_type": "code",
   "execution_count": 17,
   "id": "3c55874c",
   "metadata": {},
   "outputs": [
    {
     "name": "stdout",
     "output_type": "stream",
     "text": [
      "Epoch 1/5\n",
      "391/391 [==============================] - 110s 276ms/step - loss: 0.6963 - accuracy: 0.5039 - val_loss: 0.7013 - val_accuracy: 0.5000\n",
      "Epoch 2/5\n",
      "391/391 [==============================] - 98s 251ms/step - loss: 0.6973 - accuracy: 0.4978 - val_loss: 0.6934 - val_accuracy: 0.5000\n",
      "Epoch 3/5\n",
      "391/391 [==============================] - 96s 246ms/step - loss: 0.6959 - accuracy: 0.4990 - val_loss: 0.6949 - val_accuracy: 0.4999\n",
      "Epoch 4/5\n",
      "391/391 [==============================] - 100s 255ms/step - loss: 0.6975 - accuracy: 0.4960 - val_loss: 0.6956 - val_accuracy: 0.5000\n",
      "Epoch 5/5\n",
      "391/391 [==============================] - 103s 265ms/step - loss: 0.6971 - accuracy: 0.5016 - val_loss: 0.6988 - val_accuracy: 0.5000\n"
     ]
    },
    {
     "data": {
      "text/plain": [
       "<keras.callbacks.History at 0x17ae98be0a0>"
      ]
     },
     "execution_count": 17,
     "metadata": {},
     "output_type": "execute_result"
    }
   ],
   "source": [
    "model.fit(x_train, y_train, epochs=5, batch_size=64, validation_data=(x_test, y_test))"
   ]
  },
  {
   "cell_type": "code",
   "execution_count": 18,
   "id": "3149bf28",
   "metadata": {},
   "outputs": [
    {
     "name": "stdout",
     "output_type": "stream",
     "text": [
      "782/782 [==============================] - 46s 59ms/step - loss: 0.6988 - accuracy: 0.5000\n"
     ]
    }
   ],
   "source": [
    "loss, accuracy = model.evaluate(x_test, y_test)"
   ]
  },
  {
   "cell_type": "markdown",
   "id": "c9bbd075",
   "metadata": {},
   "source": [
    "# Embedding SimpleRNN Practice"
   ]
  },
  {
   "cell_type": "code",
   "execution_count": 1,
   "id": "1d1ba03a",
   "metadata": {},
   "outputs": [],
   "source": [
    "from tensorflow.keras.datasets import imdb\n",
    "from tensorflow.keras.models import Sequential\n",
    "from tensorflow.keras.layers import Dense, SimpleRNN, Embedding\n",
    "from tensorflow.keras.preprocessing.sequence import pad_sequences\n",
    "import numpy as np"
   ]
  },
  {
   "cell_type": "code",
   "execution_count": 2,
   "id": "439cf9c0",
   "metadata": {},
   "outputs": [],
   "source": [
    "(x_train, y_train), (x_test, y_test) = imdb.load_data(num_words=10000)"
   ]
  },
  {
   "cell_type": "code",
   "execution_count": 3,
   "id": "efb9e2b1",
   "metadata": {},
   "outputs": [
    {
     "name": "stdout",
     "output_type": "stream",
     "text": [
      "(25000,) (25000,)\n",
      "(25000,) (25000,)\n"
     ]
    }
   ],
   "source": [
    "print(x_train.shape, y_train.shape)\n",
    "print(x_test.shape, y_test.shape)"
   ]
  },
  {
   "cell_type": "code",
   "execution_count": 4,
   "id": "2c92169f",
   "metadata": {},
   "outputs": [],
   "source": [
    "# Pad sequences\n",
    "x_train = pad_sequences(x_train, padding='post', maxlen=500)\n",
    "x_test = pad_sequences(x_test, padding='post', maxlen=500)"
   ]
  },
  {
   "cell_type": "code",
   "execution_count": 5,
   "id": "37a5125f",
   "metadata": {},
   "outputs": [],
   "source": [
    "# Convert labels\n",
    "y_train = np.array(y_train)\n",
    "y_test = np.array(y_test)\n"
   ]
  },
  {
   "cell_type": "code",
   "execution_count": 6,
   "id": "0fdace0e",
   "metadata": {},
   "outputs": [
    {
     "data": {
      "text/plain": [
       "(array([1, 0, 0, ..., 0, 1, 0], dtype=int64),\n",
       " array([0, 1, 1, ..., 0, 0, 0], dtype=int64))"
      ]
     },
     "execution_count": 6,
     "metadata": {},
     "output_type": "execute_result"
    }
   ],
   "source": [
    "y_train ,y_test"
   ]
  },
  {
   "cell_type": "code",
   "execution_count": 7,
   "id": "d0aa2d8b",
   "metadata": {},
   "outputs": [],
   "source": [
    "y_train = np.array(y_train)\n",
    "y_test = np.array(y_test)"
   ]
  },
  {
   "cell_type": "code",
   "execution_count": 8,
   "id": "0cf0bdf1",
   "metadata": {},
   "outputs": [],
   "source": [
    "# Build model\n",
    "model = Sequential()\n",
    "model.add(Embedding(input_dim=10000, output_dim=2, input_length=500))\n",
    "model.add(SimpleRNN(32))\n",
    "model.add(Dense(1, activation='sigmoid'))"
   ]
  },
  {
   "cell_type": "code",
   "execution_count": 9,
   "id": "b9bed0a7",
   "metadata": {},
   "outputs": [
    {
     "name": "stdout",
     "output_type": "stream",
     "text": [
      "Model: \"sequential\"\n",
      "_________________________________________________________________\n",
      " Layer (type)                Output Shape              Param #   \n",
      "=================================================================\n",
      " embedding (Embedding)       (None, 500, 2)            20000     \n",
      "                                                                 \n",
      " simple_rnn (SimpleRNN)      (None, 32)                1120      \n",
      "                                                                 \n",
      " dense (Dense)               (None, 1)                 33        \n",
      "                                                                 \n",
      "=================================================================\n",
      "Total params: 21,153\n",
      "Trainable params: 21,153\n",
      "Non-trainable params: 0\n",
      "_________________________________________________________________\n"
     ]
    }
   ],
   "source": [
    "# Compile and train\n",
    "model.compile(loss='binary_crossentropy', optimizer='adam', metrics=['accuracy'])\n",
    "model.summary()"
   ]
  },
  {
   "cell_type": "code",
   "execution_count": 10,
   "id": "68bf9013",
   "metadata": {},
   "outputs": [
    {
     "name": "stdout",
     "output_type": "stream",
     "text": [
      "Epoch 1/5\n",
      "391/391 [==============================] - 59s 148ms/step - loss: 0.6943 - accuracy: 0.5017 - val_loss: 0.6962 - val_accuracy: 0.5004\n",
      "Epoch 2/5\n",
      "391/391 [==============================] - 53s 136ms/step - loss: 0.6931 - accuracy: 0.5054 - val_loss: 0.6928 - val_accuracy: 0.5137\n",
      "Epoch 3/5\n",
      "391/391 [==============================] - 57s 145ms/step - loss: 0.6946 - accuracy: 0.5026 - val_loss: 0.6936 - val_accuracy: 0.5020\n",
      "Epoch 4/5\n",
      "391/391 [==============================] - 58s 148ms/step - loss: 0.6945 - accuracy: 0.5042 - val_loss: 0.6938 - val_accuracy: 0.5023\n",
      "Epoch 5/5\n",
      "391/391 [==============================] - 73s 187ms/step - loss: 0.6939 - accuracy: 0.4978 - val_loss: 0.6955 - val_accuracy: 0.5000\n"
     ]
    }
   ],
   "source": [
    "history = model.fit(x_train, y_train, epochs=5, batch_size=64, validation_data=(x_test, y_test))"
   ]
  },
  {
   "cell_type": "code",
   "execution_count": 11,
   "id": "85aecbc4",
   "metadata": {},
   "outputs": [
    {
     "name": "stdout",
     "output_type": "stream",
     "text": [
      "782/782 [==============================] - 20s 25ms/step - loss: 0.6955 - accuracy: 0.5000\n",
      "Test Loss: 0.6955, Test Accuracy: 0.5000\n"
     ]
    }
   ],
   "source": [
    "# Evaluate\n",
    "loss, accuracy = model.evaluate(x_test, y_test)\n",
    "print(f\"Test Loss: {loss:.4f}, Test Accuracy: {accuracy:.4f}\")"
   ]
  },
  {
   "cell_type": "code",
   "execution_count": null,
   "id": "b219156a",
   "metadata": {},
   "outputs": [],
   "source": []
  }
 ],
 "metadata": {
  "kernelspec": {
   "display_name": "base",
   "language": "python",
   "name": "python3"
  },
  "language_info": {
   "codemirror_mode": {
    "name": "ipython",
    "version": 3
   },
   "file_extension": ".py",
   "mimetype": "text/x-python",
   "name": "python",
   "nbconvert_exporter": "python",
   "pygments_lexer": "ipython3",
   "version": "3.9.12"
  }
 },
 "nbformat": 4,
 "nbformat_minor": 5
}
