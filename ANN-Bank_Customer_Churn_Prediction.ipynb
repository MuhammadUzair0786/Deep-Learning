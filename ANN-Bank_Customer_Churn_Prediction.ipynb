{
 "cells": [
  {
   "cell_type": "code",
   "execution_count": 1,
   "id": "bfdcfae4",
   "metadata": {},
   "outputs": [],
   "source": [
    "import pandas as pd\n",
    "import numpy as np\n",
    "import matplotlib.pyplot as plt\n",
    "import seaborn as sns"
   ]
  },
  {
   "cell_type": "code",
   "execution_count": 2,
   "id": "e01c9853",
   "metadata": {},
   "outputs": [
    {
     "data": {
      "text/html": [
       "<div>\n",
       "<style scoped>\n",
       "    .dataframe tbody tr th:only-of-type {\n",
       "        vertical-align: middle;\n",
       "    }\n",
       "\n",
       "    .dataframe tbody tr th {\n",
       "        vertical-align: top;\n",
       "    }\n",
       "\n",
       "    .dataframe thead th {\n",
       "        text-align: right;\n",
       "    }\n",
       "</style>\n",
       "<table border=\"1\" class=\"dataframe\">\n",
       "  <thead>\n",
       "    <tr style=\"text-align: right;\">\n",
       "      <th></th>\n",
       "      <th>customer_id</th>\n",
       "      <th>credit_score</th>\n",
       "      <th>age</th>\n",
       "      <th>tenure</th>\n",
       "      <th>balance</th>\n",
       "      <th>products_number</th>\n",
       "      <th>credit_card</th>\n",
       "      <th>active_member</th>\n",
       "      <th>estimated_salary</th>\n",
       "      <th>churn</th>\n",
       "    </tr>\n",
       "  </thead>\n",
       "  <tbody>\n",
       "    <tr>\n",
       "      <th>0</th>\n",
       "      <td>15634602</td>\n",
       "      <td>619</td>\n",
       "      <td>42</td>\n",
       "      <td>2</td>\n",
       "      <td>0.00</td>\n",
       "      <td>1</td>\n",
       "      <td>1</td>\n",
       "      <td>1</td>\n",
       "      <td>101348.88</td>\n",
       "      <td>1</td>\n",
       "    </tr>\n",
       "    <tr>\n",
       "      <th>1</th>\n",
       "      <td>15647311</td>\n",
       "      <td>608</td>\n",
       "      <td>41</td>\n",
       "      <td>1</td>\n",
       "      <td>83807.86</td>\n",
       "      <td>1</td>\n",
       "      <td>0</td>\n",
       "      <td>1</td>\n",
       "      <td>112542.58</td>\n",
       "      <td>0</td>\n",
       "    </tr>\n",
       "    <tr>\n",
       "      <th>2</th>\n",
       "      <td>15619304</td>\n",
       "      <td>502</td>\n",
       "      <td>42</td>\n",
       "      <td>8</td>\n",
       "      <td>159660.80</td>\n",
       "      <td>3</td>\n",
       "      <td>1</td>\n",
       "      <td>0</td>\n",
       "      <td>113931.57</td>\n",
       "      <td>1</td>\n",
       "    </tr>\n",
       "    <tr>\n",
       "      <th>3</th>\n",
       "      <td>15701354</td>\n",
       "      <td>699</td>\n",
       "      <td>39</td>\n",
       "      <td>1</td>\n",
       "      <td>0.00</td>\n",
       "      <td>2</td>\n",
       "      <td>0</td>\n",
       "      <td>0</td>\n",
       "      <td>93826.63</td>\n",
       "      <td>0</td>\n",
       "    </tr>\n",
       "    <tr>\n",
       "      <th>4</th>\n",
       "      <td>15737888</td>\n",
       "      <td>850</td>\n",
       "      <td>43</td>\n",
       "      <td>2</td>\n",
       "      <td>125510.82</td>\n",
       "      <td>1</td>\n",
       "      <td>1</td>\n",
       "      <td>1</td>\n",
       "      <td>79084.10</td>\n",
       "      <td>0</td>\n",
       "    </tr>\n",
       "  </tbody>\n",
       "</table>\n",
       "</div>"
      ],
      "text/plain": [
       "   customer_id  credit_score  age  tenure    balance  products_number  \\\n",
       "0     15634602           619   42       2       0.00                1   \n",
       "1     15647311           608   41       1   83807.86                1   \n",
       "2     15619304           502   42       8  159660.80                3   \n",
       "3     15701354           699   39       1       0.00                2   \n",
       "4     15737888           850   43       2  125510.82                1   \n",
       "\n",
       "   credit_card  active_member  estimated_salary  churn  \n",
       "0            1              1         101348.88      1  \n",
       "1            0              1         112542.58      0  \n",
       "2            1              0         113931.57      1  \n",
       "3            0              0          93826.63      0  \n",
       "4            1              1          79084.10      0  "
      ]
     },
     "execution_count": 2,
     "metadata": {},
     "output_type": "execute_result"
    }
   ],
   "source": [
    "dataset = pd.read_csv(r'C:\\Users\\Muhammad Uzair\\Downloads\\Datasets\\Deep Learning Dataset\\Bank Customer Churn Prediction.csv')\n",
    "dataset.head()"
   ]
  },
  {
   "cell_type": "code",
   "execution_count": 3,
   "id": "f40ab6f0",
   "metadata": {},
   "outputs": [],
   "source": [
    "# Split the dataset into features and target variable\n",
    "x = dataset.drop('churn', axis=1)\n",
    "y = dataset['churn']"
   ]
  },
  {
   "cell_type": "code",
   "execution_count": 4,
   "id": "ca60afa6",
   "metadata": {},
   "outputs": [],
   "source": [
    "# Scaling input features\n",
    "from sklearn.preprocessing import StandardScaler\n",
    "scaler = StandardScaler()\n",
    "x =pd.DataFrame(scaler.fit_transform(x),columns=x.columns)"
   ]
  },
  {
   "cell_type": "code",
   "execution_count": 15,
   "id": "cc0ed8cd",
   "metadata": {},
   "outputs": [],
   "source": [
    "# Split the dataset into training and testing sets\n",
    "from sklearn.model_selection import train_test_split\n",
    "x_train, x_test, y_train, y_test = train_test_split(x, y, test_size=0.2, random_state=30)"
   ]
  },
  {
   "cell_type": "code",
   "execution_count": 16,
   "id": "4798bcd0",
   "metadata": {},
   "outputs": [
    {
     "data": {
      "text/plain": [
       "(8000, 9)"
      ]
     },
     "execution_count": 16,
     "metadata": {},
     "output_type": "execute_result"
    }
   ],
   "source": [
    "x_train.shape"
   ]
  },
  {
   "cell_type": "code",
   "execution_count": 30,
   "id": "4aa2fa88",
   "metadata": {},
   "outputs": [],
   "source": [
    "from tensorflow.keras.models import Sequential\n",
    "from tensorflow.keras.layers import Dense\n",
    "from tensorflow.keras.callbacks import EarlyStopping\n",
    "from tensorflow.keras.regularizers import l1,l2\n",
    "\n",
    "model = Sequential()\n",
    "# In this line we add regularizer and check accuracy\n",
    "# model.add(Dense(8,input_dim=9, activation='relu',kernel_regularizer=l1(l1=0.01)))\n",
    "model.add(Dense(6,input_dim=9, activation='relu'))\n",
    "model.add(Dense(5, activation='relu'))\n",
    "model.add(Dense(3, activation='relu'))\n",
    "model.add(Dense(1, activation='sigmoid'))\n",
    "model.compile(loss='binary_crossentropy', optimizer='adam', metrics=['accuracy'])"
   ]
  },
  {
   "cell_type": "code",
   "execution_count": 31,
   "id": "59b883a9",
   "metadata": {},
   "outputs": [
    {
     "name": "stdout",
     "output_type": "stream",
     "text": [
      "Epoch 1/50\n",
      "80/80 [==============================] - 1s 2ms/step - loss: 0.7580 - accuracy: 0.4058\n",
      "Epoch 2/50\n",
      "80/80 [==============================] - 0s 3ms/step - loss: 0.5852 - accuracy: 0.7446\n",
      "Epoch 3/50\n",
      "80/80 [==============================] - 0s 3ms/step - loss: 0.5033 - accuracy: 0.7943\n",
      "Epoch 4/50\n",
      "80/80 [==============================] - 0s 2ms/step - loss: 0.4701 - accuracy: 0.7983\n",
      "Epoch 5/50\n",
      "80/80 [==============================] - 0s 2ms/step - loss: 0.4548 - accuracy: 0.8030\n",
      "Epoch 6/50\n",
      "80/80 [==============================] - 0s 2ms/step - loss: 0.4449 - accuracy: 0.8080\n",
      "Epoch 7/50\n",
      "80/80 [==============================] - 0s 2ms/step - loss: 0.4371 - accuracy: 0.8139\n",
      "Epoch 8/50\n",
      "80/80 [==============================] - 0s 2ms/step - loss: 0.4304 - accuracy: 0.8150\n",
      "Epoch 9/50\n",
      "80/80 [==============================] - 0s 2ms/step - loss: 0.4234 - accuracy: 0.8173\n",
      "Epoch 10/50\n",
      "80/80 [==============================] - 0s 3ms/step - loss: 0.4162 - accuracy: 0.8188\n",
      "Epoch 11/50\n",
      "80/80 [==============================] - 0s 2ms/step - loss: 0.4081 - accuracy: 0.8230\n",
      "Epoch 12/50\n",
      "80/80 [==============================] - 0s 2ms/step - loss: 0.3992 - accuracy: 0.8286\n",
      "Epoch 13/50\n",
      "80/80 [==============================] - 0s 2ms/step - loss: 0.3913 - accuracy: 0.8331\n",
      "Epoch 14/50\n",
      "80/80 [==============================] - 0s 2ms/step - loss: 0.3835 - accuracy: 0.8410\n",
      "Epoch 15/50\n",
      "80/80 [==============================] - 0s 2ms/step - loss: 0.3763 - accuracy: 0.8505\n",
      "Epoch 16/50\n",
      "80/80 [==============================] - 0s 2ms/step - loss: 0.3712 - accuracy: 0.8554\n",
      "Epoch 17/50\n",
      "80/80 [==============================] - 0s 2ms/step - loss: 0.3674 - accuracy: 0.8569\n",
      "Epoch 18/50\n",
      "80/80 [==============================] - 0s 2ms/step - loss: 0.3650 - accuracy: 0.8559\n",
      "Epoch 19/50\n",
      "80/80 [==============================] - 0s 2ms/step - loss: 0.3630 - accuracy: 0.8580\n",
      "Epoch 20/50\n",
      "80/80 [==============================] - 0s 2ms/step - loss: 0.3616 - accuracy: 0.8580\n",
      "Epoch 21/50\n",
      "80/80 [==============================] - 0s 2ms/step - loss: 0.3608 - accuracy: 0.8580\n",
      "Epoch 22/50\n",
      "80/80 [==============================] - 0s 2ms/step - loss: 0.3595 - accuracy: 0.8577\n",
      "Epoch 23/50\n",
      "80/80 [==============================] - 0s 2ms/step - loss: 0.3587 - accuracy: 0.8583\n",
      "Epoch 24/50\n",
      "80/80 [==============================] - 0s 2ms/step - loss: 0.3581 - accuracy: 0.8584\n",
      "Epoch 25/50\n",
      "80/80 [==============================] - 0s 2ms/step - loss: 0.3573 - accuracy: 0.8587\n",
      "Epoch 26/50\n",
      "80/80 [==============================] - 0s 2ms/step - loss: 0.3572 - accuracy: 0.8589\n",
      "Epoch 27/50\n",
      "80/80 [==============================] - 0s 2ms/step - loss: 0.3562 - accuracy: 0.8580\n",
      "Epoch 28/50\n",
      "80/80 [==============================] - 0s 2ms/step - loss: 0.3561 - accuracy: 0.8587\n",
      "Epoch 29/50\n",
      "80/80 [==============================] - 0s 2ms/step - loss: 0.3558 - accuracy: 0.8583\n",
      "Epoch 30/50\n",
      "80/80 [==============================] - 0s 2ms/step - loss: 0.3554 - accuracy: 0.8577\n",
      "Epoch 31/50\n",
      "80/80 [==============================] - 0s 2ms/step - loss: 0.3552 - accuracy: 0.8577\n",
      "Epoch 32/50\n",
      "80/80 [==============================] - 0s 2ms/step - loss: 0.3549 - accuracy: 0.8580\n",
      "Epoch 33/50\n",
      "80/80 [==============================] - 0s 2ms/step - loss: 0.3545 - accuracy: 0.8587\n",
      "Epoch 34/50\n",
      "80/80 [==============================] - 0s 2ms/step - loss: 0.3545 - accuracy: 0.8587\n",
      "Epoch 35/50\n",
      "80/80 [==============================] - 0s 2ms/step - loss: 0.3541 - accuracy: 0.8577\n",
      "Epoch 36/50\n",
      "80/80 [==============================] - 0s 2ms/step - loss: 0.3536 - accuracy: 0.8577\n",
      "Epoch 37/50\n",
      "80/80 [==============================] - 0s 2ms/step - loss: 0.3536 - accuracy: 0.8581\n",
      "Epoch 38/50\n",
      "80/80 [==============================] - 0s 2ms/step - loss: 0.3532 - accuracy: 0.8587\n",
      "Epoch 39/50\n",
      "80/80 [==============================] - 0s 2ms/step - loss: 0.3529 - accuracy: 0.8583\n",
      "Epoch 40/50\n",
      "80/80 [==============================] - 0s 2ms/step - loss: 0.3530 - accuracy: 0.8581\n",
      "Epoch 41/50\n",
      "80/80 [==============================] - 0s 3ms/step - loss: 0.3522 - accuracy: 0.8580\n",
      "Epoch 42/50\n",
      "80/80 [==============================] - 0s 2ms/step - loss: 0.3521 - accuracy: 0.8585\n",
      "Epoch 43/50\n",
      "80/80 [==============================] - 0s 2ms/step - loss: 0.3512 - accuracy: 0.8575\n",
      "Epoch 44/50\n",
      "80/80 [==============================] - 0s 2ms/step - loss: 0.3510 - accuracy: 0.8586\n",
      "Epoch 45/50\n",
      "80/80 [==============================] - 0s 2ms/step - loss: 0.3501 - accuracy: 0.8584\n",
      "Epoch 46/50\n",
      "80/80 [==============================] - 0s 2ms/step - loss: 0.3497 - accuracy: 0.8584\n",
      "Epoch 47/50\n",
      "80/80 [==============================] - 0s 2ms/step - loss: 0.3494 - accuracy: 0.8589\n",
      "Epoch 48/50\n",
      "80/80 [==============================] - 0s 2ms/step - loss: 0.3488 - accuracy: 0.8587\n",
      "Epoch 49/50\n",
      "80/80 [==============================] - 0s 2ms/step - loss: 0.3487 - accuracy: 0.8581\n",
      "Epoch 50/50\n",
      "80/80 [==============================] - 0s 2ms/step - loss: 0.3481 - accuracy: 0.8595\n"
     ]
    },
    {
     "data": {
      "text/plain": [
       "<keras.callbacks.History at 0x1b7157f2490>"
      ]
     },
     "execution_count": 31,
     "metadata": {},
     "output_type": "execute_result"
    }
   ],
   "source": [
    "model.fit(x_train, y_train, epochs=50, batch_size=100)\n",
    "# in this line we add validation accuracy and Early stopping technique\n",
    "# model.fit(x_train, y_train, epochs=50, batch_size=100,validation_data=(x_test,y_test),callbacks=EarlyStopping())"
   ]
  },
  {
   "cell_type": "code",
   "execution_count": 32,
   "id": "acbc0efc",
   "metadata": {},
   "outputs": [
    {
     "name": "stdout",
     "output_type": "stream",
     "text": [
      "250/250 [==============================] - 0s 1ms/step\n"
     ]
    }
   ],
   "source": [
    "y_pred =model.predict(x_train)\n",
    "pred_data =[]\n",
    "for i in y_pred:\n",
    "    if i[0]>0.5:\n",
    "        pred_data.append(1)\n",
    "    else:\n",
    "        pred_data.append(0)"
   ]
  },
  {
   "cell_type": "code",
   "execution_count": 33,
   "id": "b4f22b71",
   "metadata": {},
   "outputs": [
    {
     "name": "stdout",
     "output_type": "stream",
     "text": [
      "63/63 [==============================] - 0s 1ms/step\n"
     ]
    }
   ],
   "source": [
    "y_pred1 =model.predict(x_test)\n",
    "pred_data1 =[]\n",
    "for i in y_pred1:\n",
    "    if i[0]>0.5:\n",
    "        pred_data1.append(1)\n",
    "    else:\n",
    "        pred_data1.append(0)"
   ]
  },
  {
   "cell_type": "code",
   "execution_count": 34,
   "id": "e64a3b68",
   "metadata": {},
   "outputs": [
    {
     "name": "stdout",
     "output_type": "stream",
     "text": [
      "Accuracy Train: 85.89%\n"
     ]
    }
   ],
   "source": [
    "from sklearn.metrics import accuracy_score\n",
    "accuracy = accuracy_score(y_train, pred_data)\n",
    "print(f'Accuracy Train: {accuracy * 100:.2f}%')"
   ]
  },
  {
   "cell_type": "code",
   "execution_count": 36,
   "id": "9709bed6",
   "metadata": {},
   "outputs": [
    {
     "name": "stdout",
     "output_type": "stream",
     "text": [
      "Accuracy Test: 84.60%\n"
     ]
    }
   ],
   "source": [
    "accuracy1 = accuracy_score(y_test, pred_data1)\n",
    "print(f'Accuracy Test: {accuracy1 * 100:.2f}%')"
   ]
  },
  {
   "cell_type": "code",
   "execution_count": 37,
   "id": "ca075289",
   "metadata": {},
   "outputs": [
    {
     "name": "stdout",
     "output_type": "stream",
     "text": [
      "1/1 [==============================] - 0s 87ms/step\n"
     ]
    },
    {
     "data": {
      "text/plain": [
       "array([[1.]], dtype=float32)"
      ]
     },
     "execution_count": 37,
     "metadata": {},
     "output_type": "execute_result"
    }
   ],
   "source": [
    "model.predict([[15619304,502,42,8,159660.80,3,1,0,113931.57]])"
   ]
  },
  {
   "cell_type": "code",
   "execution_count": 40,
   "id": "97b8ae24",
   "metadata": {},
   "outputs": [
    {
     "name": "stdout",
     "output_type": "stream",
     "text": [
      "1/1 [==============================] - 0s 41ms/step\n"
     ]
    },
    {
     "data": {
      "text/plain": [
       "array([[1.]], dtype=float32)"
      ]
     },
     "execution_count": 40,
     "metadata": {},
     "output_type": "execute_result"
    }
   ],
   "source": [
    "model.predict([[15737888,850,43,2,125510.82,1,1,1,79084.10]])"
   ]
  },
  {
   "cell_type": "code",
   "execution_count": null,
   "id": "716d80ee",
   "metadata": {},
   "outputs": [],
   "source": []
  }
 ],
 "metadata": {
  "kernelspec": {
   "display_name": "Python 3 (ipykernel)",
   "language": "python",
   "name": "python3"
  },
  "language_info": {
   "codemirror_mode": {
    "name": "ipython",
    "version": 3
   },
   "file_extension": ".py",
   "mimetype": "text/x-python",
   "name": "python",
   "nbconvert_exporter": "python",
   "pygments_lexer": "ipython3",
   "version": "3.9.12"
  }
 },
 "nbformat": 4,
 "nbformat_minor": 5
}
