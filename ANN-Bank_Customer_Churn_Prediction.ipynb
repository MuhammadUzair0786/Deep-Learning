{
 "cells": [
  {
   "cell_type": "code",
   "execution_count": 1,
   "id": "bfdcfae4",
   "metadata": {},
   "outputs": [],
   "source": [
    "import pandas as pd\n",
    "import numpy as np\n",
    "import matplotlib.pyplot as plt\n",
    "import seaborn as sns"
   ]
  },
  {
   "cell_type": "code",
   "execution_count": 2,
   "id": "e01c9853",
   "metadata": {},
   "outputs": [
    {
     "data": {
      "text/html": [
       "<div>\n",
       "<style scoped>\n",
       "    .dataframe tbody tr th:only-of-type {\n",
       "        vertical-align: middle;\n",
       "    }\n",
       "\n",
       "    .dataframe tbody tr th {\n",
       "        vertical-align: top;\n",
       "    }\n",
       "\n",
       "    .dataframe thead th {\n",
       "        text-align: right;\n",
       "    }\n",
       "</style>\n",
       "<table border=\"1\" class=\"dataframe\">\n",
       "  <thead>\n",
       "    <tr style=\"text-align: right;\">\n",
       "      <th></th>\n",
       "      <th>customer_id</th>\n",
       "      <th>credit_score</th>\n",
       "      <th>age</th>\n",
       "      <th>tenure</th>\n",
       "      <th>balance</th>\n",
       "      <th>products_number</th>\n",
       "      <th>credit_card</th>\n",
       "      <th>active_member</th>\n",
       "      <th>estimated_salary</th>\n",
       "      <th>churn</th>\n",
       "    </tr>\n",
       "  </thead>\n",
       "  <tbody>\n",
       "    <tr>\n",
       "      <th>0</th>\n",
       "      <td>15634602</td>\n",
       "      <td>619</td>\n",
       "      <td>42</td>\n",
       "      <td>2</td>\n",
       "      <td>0.00</td>\n",
       "      <td>1</td>\n",
       "      <td>1</td>\n",
       "      <td>1</td>\n",
       "      <td>101348.88</td>\n",
       "      <td>1</td>\n",
       "    </tr>\n",
       "    <tr>\n",
       "      <th>1</th>\n",
       "      <td>15647311</td>\n",
       "      <td>608</td>\n",
       "      <td>41</td>\n",
       "      <td>1</td>\n",
       "      <td>83807.86</td>\n",
       "      <td>1</td>\n",
       "      <td>0</td>\n",
       "      <td>1</td>\n",
       "      <td>112542.58</td>\n",
       "      <td>0</td>\n",
       "    </tr>\n",
       "    <tr>\n",
       "      <th>2</th>\n",
       "      <td>15619304</td>\n",
       "      <td>502</td>\n",
       "      <td>42</td>\n",
       "      <td>8</td>\n",
       "      <td>159660.80</td>\n",
       "      <td>3</td>\n",
       "      <td>1</td>\n",
       "      <td>0</td>\n",
       "      <td>113931.57</td>\n",
       "      <td>1</td>\n",
       "    </tr>\n",
       "    <tr>\n",
       "      <th>3</th>\n",
       "      <td>15701354</td>\n",
       "      <td>699</td>\n",
       "      <td>39</td>\n",
       "      <td>1</td>\n",
       "      <td>0.00</td>\n",
       "      <td>2</td>\n",
       "      <td>0</td>\n",
       "      <td>0</td>\n",
       "      <td>93826.63</td>\n",
       "      <td>0</td>\n",
       "    </tr>\n",
       "    <tr>\n",
       "      <th>4</th>\n",
       "      <td>15737888</td>\n",
       "      <td>850</td>\n",
       "      <td>43</td>\n",
       "      <td>2</td>\n",
       "      <td>125510.82</td>\n",
       "      <td>1</td>\n",
       "      <td>1</td>\n",
       "      <td>1</td>\n",
       "      <td>79084.10</td>\n",
       "      <td>0</td>\n",
       "    </tr>\n",
       "  </tbody>\n",
       "</table>\n",
       "</div>"
      ],
      "text/plain": [
       "   customer_id  credit_score  age  tenure    balance  products_number  \\\n",
       "0     15634602           619   42       2       0.00                1   \n",
       "1     15647311           608   41       1   83807.86                1   \n",
       "2     15619304           502   42       8  159660.80                3   \n",
       "3     15701354           699   39       1       0.00                2   \n",
       "4     15737888           850   43       2  125510.82                1   \n",
       "\n",
       "   credit_card  active_member  estimated_salary  churn  \n",
       "0            1              1         101348.88      1  \n",
       "1            0              1         112542.58      0  \n",
       "2            1              0         113931.57      1  \n",
       "3            0              0          93826.63      0  \n",
       "4            1              1          79084.10      0  "
      ]
     },
     "execution_count": 2,
     "metadata": {},
     "output_type": "execute_result"
    }
   ],
   "source": [
    "dataset = pd.read_csv(r'C:\\Users\\Muhammad Uzair\\Downloads\\Datasets\\Deep Learning Dataset\\Bank Customer Churn Prediction.csv')\n",
    "dataset.head()"
   ]
  },
  {
   "cell_type": "code",
   "execution_count": 3,
   "id": "f40ab6f0",
   "metadata": {},
   "outputs": [],
   "source": [
    "# Split the dataset into features and target variable\n",
    "x = dataset.drop('churn', axis=1)\n",
    "y = dataset['churn']"
   ]
  },
  {
   "cell_type": "code",
   "execution_count": 4,
   "id": "ca60afa6",
   "metadata": {},
   "outputs": [],
   "source": [
    "# Scaling input features\n",
    "from sklearn.preprocessing import StandardScaler\n",
    "scaler = StandardScaler()\n",
    "x =pd.DataFrame(scaler.fit_transform(x),columns=x.columns)"
   ]
  },
  {
   "cell_type": "code",
   "execution_count": 5,
   "id": "cc0ed8cd",
   "metadata": {},
   "outputs": [],
   "source": [
    "# Split the dataset into training and testing sets\n",
    "from sklearn.model_selection import train_test_split\n",
    "x_train, x_test, y_train, y_test = train_test_split(x, y, test_size=0.2, random_state=30)"
   ]
  },
  {
   "cell_type": "code",
   "execution_count": 6,
   "id": "4798bcd0",
   "metadata": {},
   "outputs": [
    {
     "data": {
      "text/plain": [
       "(8000, 9)"
      ]
     },
     "execution_count": 6,
     "metadata": {},
     "output_type": "execute_result"
    }
   ],
   "source": [
    "x_train.shape"
   ]
  },
  {
   "cell_type": "code",
   "execution_count": 20,
   "id": "4aa2fa88",
   "metadata": {},
   "outputs": [],
   "source": [
    "from tensorflow.keras.models import Sequential\n",
    "from tensorflow.keras.layers import Dense,BatchNormalization,Dropout\n",
    "from tensorflow.keras.callbacks import EarlyStopping\n",
    "from tensorflow.keras.regularizers import l1,l2\n",
    "\n",
    "model = Sequential()\n",
    "# In this line we add regularizer and check accuracy\n",
    "# model.add(Dense(8,input_dim=9, activation='relu',kernel_regularizer=l1(l1=0.01)))\n",
    "model.add(Dense(6,input_dim=9, activation='relu',kernel_regularizer=l2(l2=0.01)))\n",
    "model.add(BatchNormalization())\n",
    "# model.add(Dropout(0.10)) #use for reduce overfitting\n",
    "model.add(Dense(4, activation='relu',kernel_regularizer=l2(l2=0.01)))\n",
    "model.add(BatchNormalization())\n",
    "# model.add(Dropout(0.10))\n",
    "model.add(Dense(3, activation='relu',kernel_regularizer=l2(l2=0.01)))\n",
    "model.add(BatchNormalization())\n",
    "model.add(Dense(1, activation='sigmoid'))\n",
    "model.compile(loss='binary_crossentropy', optimizer='adam', metrics=['accuracy'])"
   ]
  },
  {
   "cell_type": "code",
   "execution_count": 21,
   "id": "59b883a9",
   "metadata": {},
   "outputs": [
    {
     "name": "stdout",
     "output_type": "stream",
     "text": [
      "Epoch 1/50\n",
      "80/80 [==============================] - 3s 8ms/step - loss: 1.0654 - accuracy: 0.6025 - val_loss: 0.7963 - val_accuracy: 0.7245\n",
      "Epoch 2/50\n",
      "80/80 [==============================] - 0s 3ms/step - loss: 0.8773 - accuracy: 0.6990 - val_loss: 0.7362 - val_accuracy: 0.7540\n",
      "Epoch 3/50\n",
      "80/80 [==============================] - 0s 3ms/step - loss: 0.7553 - accuracy: 0.7424 - val_loss: 0.6804 - val_accuracy: 0.7720\n",
      "Epoch 4/50\n",
      "80/80 [==============================] - 0s 3ms/step - loss: 0.6657 - accuracy: 0.7680 - val_loss: 0.6304 - val_accuracy: 0.7810\n",
      "Epoch 5/50\n",
      "80/80 [==============================] - 0s 3ms/step - loss: 0.5991 - accuracy: 0.7925 - val_loss: 0.5903 - val_accuracy: 0.7940\n",
      "Epoch 6/50\n",
      "80/80 [==============================] - 0s 3ms/step - loss: 0.5556 - accuracy: 0.8054 - val_loss: 0.5575 - val_accuracy: 0.7955\n",
      "Epoch 7/50\n",
      "80/80 [==============================] - 0s 3ms/step - loss: 0.5251 - accuracy: 0.8106 - val_loss: 0.5286 - val_accuracy: 0.8025\n",
      "Epoch 8/50\n",
      "80/80 [==============================] - 0s 3ms/step - loss: 0.4997 - accuracy: 0.8156 - val_loss: 0.5056 - val_accuracy: 0.8080\n",
      "Epoch 9/50\n",
      "80/80 [==============================] - 0s 4ms/step - loss: 0.4749 - accuracy: 0.8276 - val_loss: 0.4846 - val_accuracy: 0.8115\n",
      "Epoch 10/50\n",
      "80/80 [==============================] - 0s 3ms/step - loss: 0.4536 - accuracy: 0.8342 - val_loss: 0.4658 - val_accuracy: 0.8265\n",
      "Epoch 11/50\n",
      "80/80 [==============================] - 0s 3ms/step - loss: 0.4368 - accuracy: 0.8418 - val_loss: 0.4567 - val_accuracy: 0.8250\n",
      "Epoch 12/50\n",
      "80/80 [==============================] - 0s 3ms/step - loss: 0.4234 - accuracy: 0.8479 - val_loss: 0.4411 - val_accuracy: 0.8345\n",
      "Epoch 13/50\n",
      "80/80 [==============================] - 0s 3ms/step - loss: 0.4157 - accuracy: 0.8461 - val_loss: 0.4299 - val_accuracy: 0.8375\n",
      "Epoch 14/50\n",
      "80/80 [==============================] - 0s 3ms/step - loss: 0.4055 - accuracy: 0.8515 - val_loss: 0.4185 - val_accuracy: 0.8445\n",
      "Epoch 15/50\n",
      "80/80 [==============================] - 0s 3ms/step - loss: 0.3999 - accuracy: 0.8506 - val_loss: 0.4169 - val_accuracy: 0.8410\n",
      "Epoch 16/50\n",
      "80/80 [==============================] - 0s 3ms/step - loss: 0.3930 - accuracy: 0.8535 - val_loss: 0.4075 - val_accuracy: 0.8410\n",
      "Epoch 17/50\n",
      "80/80 [==============================] - 0s 3ms/step - loss: 0.3911 - accuracy: 0.8519 - val_loss: 0.4107 - val_accuracy: 0.8405\n"
     ]
    },
    {
     "data": {
      "text/plain": [
       "<keras.callbacks.History at 0x19dffa0b400>"
      ]
     },
     "execution_count": 21,
     "metadata": {},
     "output_type": "execute_result"
    }
   ],
   "source": [
    "model.fit(x_train, y_train, epochs=50, batch_size=100,validation_data=(x_test,y_test),callbacks=EarlyStopping())\n",
    "# in this line we add validation accuracy and Early stopping technique\n",
    "# model.fit(x_train, y_train, epochs=50, batch_size=100,validation_data=(x_test,y_test),callbacks=EarlyStopping())"
   ]
  },
  {
   "cell_type": "code",
   "execution_count": 22,
   "id": "acbc0efc",
   "metadata": {},
   "outputs": [
    {
     "name": "stdout",
     "output_type": "stream",
     "text": [
      "250/250 [==============================] - 0s 1ms/step\n"
     ]
    }
   ],
   "source": [
    "y_pred_train =model.predict(x_train)\n",
    "pred_data_train =[]\n",
    "for i in y_pred_train:\n",
    "    if i[0]>0.5:\n",
    "        pred_data_train.append(1)\n",
    "    else:\n",
    "        pred_data_train.append(0)"
   ]
  },
  {
   "cell_type": "code",
   "execution_count": 23,
   "id": "b4f22b71",
   "metadata": {},
   "outputs": [
    {
     "name": "stdout",
     "output_type": "stream",
     "text": [
      "63/63 [==============================] - 0s 2ms/step\n"
     ]
    }
   ],
   "source": [
    "y_pred_test =model.predict(x_test)\n",
    "pred_data_test =[]\n",
    "for i in y_pred_test:\n",
    "    if i[0]>0.5:\n",
    "        pred_data_test.append(1)\n",
    "    else:\n",
    "        pred_data_test.append(0)"
   ]
  },
  {
   "cell_type": "code",
   "execution_count": 24,
   "id": "e64a3b68",
   "metadata": {},
   "outputs": [
    {
     "name": "stdout",
     "output_type": "stream",
     "text": [
      "Accuracy Train: 85.47%\n"
     ]
    }
   ],
   "source": [
    "from sklearn.metrics import accuracy_score,confusion_matrix\n",
    "accuracy = accuracy_score(y_train, pred_data_train)\n",
    "print(f'Accuracy Train: {accuracy * 100:.2f}%')"
   ]
  },
  {
   "cell_type": "code",
   "execution_count": 25,
   "id": "9709bed6",
   "metadata": {},
   "outputs": [
    {
     "name": "stdout",
     "output_type": "stream",
     "text": [
      "Accuracy Test: 84.05%\n"
     ]
    }
   ],
   "source": [
    "accuracy1 = accuracy_score(y_test, pred_data_test)\n",
    "print(f'Accuracy Test: {accuracy1 * 100:.2f}%')"
   ]
  },
  {
   "cell_type": "code",
   "execution_count": 26,
   "id": "ca075289",
   "metadata": {},
   "outputs": [
    {
     "name": "stdout",
     "output_type": "stream",
     "text": [
      "1/1 [==============================] - 0s 130ms/step\n",
      "output 1\n"
     ]
    }
   ],
   "source": [
    "output=model.predict([[-0.995885,-1.536794,0.293517,1.032908,1.333053,2.527057,0.646092,-1.030670,0.240687]])\n",
    "if output>0.5:\n",
    "    print('output',1)\n",
    "else:\n",
    "    print('output',0)"
   ]
  },
  {
   "cell_type": "code",
   "execution_count": 27,
   "id": "97b8ae24",
   "metadata": {},
   "outputs": [
    {
     "name": "stdout",
     "output_type": "stream",
     "text": [
      "1/1 [==============================] - 0s 29ms/step\n",
      "output 0\n"
     ]
    }
   ],
   "source": [
    "output=model.predict([[-0.606534,-0.440036,0.198164,-1.387538,0.117350,-0.911583,-1.547768,0.970243,0.216534]])\n",
    "if output>0.5:\n",
    "    print('output',1)\n",
    "else:\n",
    "    print('output',0)"
   ]
  },
  {
   "cell_type": "code",
   "execution_count": 28,
   "id": "716d80ee",
   "metadata": {},
   "outputs": [
    {
     "data": {
      "text/html": [
       "<div>\n",
       "<style scoped>\n",
       "    .dataframe tbody tr th:only-of-type {\n",
       "        vertical-align: middle;\n",
       "    }\n",
       "\n",
       "    .dataframe tbody tr th {\n",
       "        vertical-align: top;\n",
       "    }\n",
       "\n",
       "    .dataframe thead th {\n",
       "        text-align: right;\n",
       "    }\n",
       "</style>\n",
       "<table border=\"1\" class=\"dataframe\">\n",
       "  <thead>\n",
       "    <tr style=\"text-align: right;\">\n",
       "      <th></th>\n",
       "      <th>customer_id</th>\n",
       "      <th>credit_score</th>\n",
       "      <th>age</th>\n",
       "      <th>tenure</th>\n",
       "      <th>balance</th>\n",
       "      <th>products_number</th>\n",
       "      <th>credit_card</th>\n",
       "      <th>active_member</th>\n",
       "      <th>estimated_salary</th>\n",
       "    </tr>\n",
       "  </thead>\n",
       "  <tbody>\n",
       "    <tr>\n",
       "      <th>0</th>\n",
       "      <td>-0.783213</td>\n",
       "      <td>-0.326221</td>\n",
       "      <td>0.293517</td>\n",
       "      <td>-1.041760</td>\n",
       "      <td>-1.225848</td>\n",
       "      <td>-0.911583</td>\n",
       "      <td>0.646092</td>\n",
       "      <td>0.970243</td>\n",
       "      <td>0.021886</td>\n",
       "    </tr>\n",
       "    <tr>\n",
       "      <th>1</th>\n",
       "      <td>-0.606534</td>\n",
       "      <td>-0.440036</td>\n",
       "      <td>0.198164</td>\n",
       "      <td>-1.387538</td>\n",
       "      <td>0.117350</td>\n",
       "      <td>-0.911583</td>\n",
       "      <td>-1.547768</td>\n",
       "      <td>0.970243</td>\n",
       "      <td>0.216534</td>\n",
       "    </tr>\n",
       "    <tr>\n",
       "      <th>2</th>\n",
       "      <td>-0.995885</td>\n",
       "      <td>-1.536794</td>\n",
       "      <td>0.293517</td>\n",
       "      <td>1.032908</td>\n",
       "      <td>1.333053</td>\n",
       "      <td>2.527057</td>\n",
       "      <td>0.646092</td>\n",
       "      <td>-1.030670</td>\n",
       "      <td>0.240687</td>\n",
       "    </tr>\n",
       "    <tr>\n",
       "      <th>3</th>\n",
       "      <td>0.144767</td>\n",
       "      <td>0.501521</td>\n",
       "      <td>0.007457</td>\n",
       "      <td>-1.387538</td>\n",
       "      <td>-1.225848</td>\n",
       "      <td>0.807737</td>\n",
       "      <td>-1.547768</td>\n",
       "      <td>-1.030670</td>\n",
       "      <td>-0.108918</td>\n",
       "    </tr>\n",
       "    <tr>\n",
       "      <th>4</th>\n",
       "      <td>0.652659</td>\n",
       "      <td>2.063884</td>\n",
       "      <td>0.388871</td>\n",
       "      <td>-1.041760</td>\n",
       "      <td>0.785728</td>\n",
       "      <td>-0.911583</td>\n",
       "      <td>0.646092</td>\n",
       "      <td>0.970243</td>\n",
       "      <td>-0.365276</td>\n",
       "    </tr>\n",
       "    <tr>\n",
       "      <th>...</th>\n",
       "      <td>...</td>\n",
       "      <td>...</td>\n",
       "      <td>...</td>\n",
       "      <td>...</td>\n",
       "      <td>...</td>\n",
       "      <td>...</td>\n",
       "      <td>...</td>\n",
       "      <td>...</td>\n",
       "      <td>...</td>\n",
       "    </tr>\n",
       "    <tr>\n",
       "      <th>9995</th>\n",
       "      <td>-1.177652</td>\n",
       "      <td>1.246488</td>\n",
       "      <td>0.007457</td>\n",
       "      <td>-0.004426</td>\n",
       "      <td>-1.225848</td>\n",
       "      <td>0.807737</td>\n",
       "      <td>0.646092</td>\n",
       "      <td>-1.030670</td>\n",
       "      <td>-0.066419</td>\n",
       "    </tr>\n",
       "    <tr>\n",
       "      <th>9996</th>\n",
       "      <td>-1.682806</td>\n",
       "      <td>-1.391939</td>\n",
       "      <td>-0.373958</td>\n",
       "      <td>1.724464</td>\n",
       "      <td>-0.306379</td>\n",
       "      <td>-0.911583</td>\n",
       "      <td>0.646092</td>\n",
       "      <td>0.970243</td>\n",
       "      <td>0.027988</td>\n",
       "    </tr>\n",
       "    <tr>\n",
       "      <th>9997</th>\n",
       "      <td>-1.479282</td>\n",
       "      <td>0.604988</td>\n",
       "      <td>-0.278604</td>\n",
       "      <td>0.687130</td>\n",
       "      <td>-1.225848</td>\n",
       "      <td>-0.911583</td>\n",
       "      <td>-1.547768</td>\n",
       "      <td>0.970243</td>\n",
       "      <td>-1.008643</td>\n",
       "    </tr>\n",
       "    <tr>\n",
       "      <th>9998</th>\n",
       "      <td>-0.119356</td>\n",
       "      <td>1.256835</td>\n",
       "      <td>0.293517</td>\n",
       "      <td>-0.695982</td>\n",
       "      <td>-0.022608</td>\n",
       "      <td>0.807737</td>\n",
       "      <td>0.646092</td>\n",
       "      <td>-1.030670</td>\n",
       "      <td>-0.125231</td>\n",
       "    </tr>\n",
       "    <tr>\n",
       "      <th>9999</th>\n",
       "      <td>-0.870559</td>\n",
       "      <td>1.463771</td>\n",
       "      <td>-1.041433</td>\n",
       "      <td>-0.350204</td>\n",
       "      <td>0.859965</td>\n",
       "      <td>-0.911583</td>\n",
       "      <td>0.646092</td>\n",
       "      <td>-1.030670</td>\n",
       "      <td>-1.076370</td>\n",
       "    </tr>\n",
       "  </tbody>\n",
       "</table>\n",
       "<p>10000 rows × 9 columns</p>\n",
       "</div>"
      ],
      "text/plain": [
       "      customer_id  credit_score       age    tenure   balance  \\\n",
       "0       -0.783213     -0.326221  0.293517 -1.041760 -1.225848   \n",
       "1       -0.606534     -0.440036  0.198164 -1.387538  0.117350   \n",
       "2       -0.995885     -1.536794  0.293517  1.032908  1.333053   \n",
       "3        0.144767      0.501521  0.007457 -1.387538 -1.225848   \n",
       "4        0.652659      2.063884  0.388871 -1.041760  0.785728   \n",
       "...           ...           ...       ...       ...       ...   \n",
       "9995    -1.177652      1.246488  0.007457 -0.004426 -1.225848   \n",
       "9996    -1.682806     -1.391939 -0.373958  1.724464 -0.306379   \n",
       "9997    -1.479282      0.604988 -0.278604  0.687130 -1.225848   \n",
       "9998    -0.119356      1.256835  0.293517 -0.695982 -0.022608   \n",
       "9999    -0.870559      1.463771 -1.041433 -0.350204  0.859965   \n",
       "\n",
       "      products_number  credit_card  active_member  estimated_salary  \n",
       "0           -0.911583     0.646092       0.970243          0.021886  \n",
       "1           -0.911583    -1.547768       0.970243          0.216534  \n",
       "2            2.527057     0.646092      -1.030670          0.240687  \n",
       "3            0.807737    -1.547768      -1.030670         -0.108918  \n",
       "4           -0.911583     0.646092       0.970243         -0.365276  \n",
       "...               ...          ...            ...               ...  \n",
       "9995         0.807737     0.646092      -1.030670         -0.066419  \n",
       "9996        -0.911583     0.646092       0.970243          0.027988  \n",
       "9997        -0.911583    -1.547768       0.970243         -1.008643  \n",
       "9998         0.807737     0.646092      -1.030670         -0.125231  \n",
       "9999        -0.911583     0.646092      -1.030670         -1.076370  \n",
       "\n",
       "[10000 rows x 9 columns]"
      ]
     },
     "execution_count": 28,
     "metadata": {},
     "output_type": "execute_result"
    }
   ],
   "source": [
    "x"
   ]
  },
  {
   "cell_type": "code",
   "execution_count": 29,
   "id": "95728078",
   "metadata": {},
   "outputs": [],
   "source": [
    "cm_train =confusion_matrix(y_train,pred_data_train)"
   ]
  },
  {
   "cell_type": "code",
   "execution_count": 30,
   "id": "5dc5a9aa",
   "metadata": {},
   "outputs": [
    {
     "data": {
      "image/png": "[encoded data removed]",
      "text/plain": [
       "<Figure size 432x288 with 2 Axes>"
      ]
     },
     "metadata": {
      "needs_background": "light"
     },
     "output_type": "display_data"
    }
   ],
   "source": [
    "sns.heatmap(cm_train,annot=True, fmt='d')\n",
    "plt.xlabel('Predicted')\n",
    "plt.ylabel('Actual')\n",
    "plt.show()"
   ]
  },
  {
   "cell_type": "code",
   "execution_count": 31,
   "id": "cd7fb365",
   "metadata": {},
   "outputs": [],
   "source": [
    "cm_test =confusion_matrix(y_test,pred_data_test)"
   ]
  },
  {
   "cell_type": "code",
   "execution_count": 32,
   "id": "aff0a160",
   "metadata": {},
   "outputs": [
    {
     "data": {
      "image/png": "[encoded data removed]",
      "text/plain": [
       "<Figure size 432x288 with 2 Axes>"
      ]
     },
     "metadata": {
      "needs_background": "light"
     },
     "output_type": "display_data"
    }
   ],
   "source": [
    "sns.heatmap(cm_test,annot=True, fmt='d')\n",
    "plt.xlabel('Predicted')\n",
    "plt.ylabel('Actual')\n",
    "plt.show()"
   ]
  },
  {
   "cell_type": "code",
   "execution_count": null,
   "id": "4de6ad3f",
   "metadata": {},
   "outputs": [],
   "source": []
  }
 ],
 "metadata": {
  "kernelspec": {
   "display_name": "tf_env",
   "language": "python",
   "name": "python3"
  },
  "language_info": {
   "codemirror_mode": {
    "name": "ipython",
    "version": 3
   },
   "file_extension": ".py",
   "mimetype": "text/x-python",
   "name": "python",
   "nbconvert_exporter": "python",
   "pygments_lexer": "ipython3",
   "version": "3.11.0"
  }
 },
 "nbformat": 4,
 "nbformat_minor": 5
}
